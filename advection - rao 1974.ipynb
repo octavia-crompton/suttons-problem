{
 "cells": [
  {
   "cell_type": "markdown",
   "id": "c739b59c",
   "metadata": {},
   "source": [
    "𝑅_𝑛−𝐺_𝑠=𝐿𝐸+𝐻\n",
    "\n",
    "𝑅_𝑛=(1 − 𝛼_𝑠 ) 𝑅_𝑠𝑖+𝑅_𝑖𝑙−𝜖_𝑠 𝜎𝑇_𝑠^4\n",
    "\n",
    "𝛼_𝑠  depends on soil moisture\n",
    "\n",
    "\n",
    "The z0 values over the desert and the field respectively were taken as 0.005 m and 0.05 m. \n",
    "\n",
    "The surface roughness for heat and moisture (z0r) was assumed to be zo/5 \n",
    "\n",
    "\n",
    "h = actual canopy height?\n",
    "d = 2/3*h"
   ]
  },
  {
   "cell_type": "code",
   "execution_count": 1,
   "id": "45df62af",
   "metadata": {},
   "outputs": [
    {
     "name": "stdout",
     "output_type": "stream",
     "text": [
      "CPU times: user 1.27 s, sys: 1.73 s, total: 3 s\n",
      "Wall time: 856 ms\n"
     ]
    }
   ],
   "source": [
    "%%time\n",
    "import numpy as np\n",
    "import matplotlib.pyplot as plt\n",
    "import sys\n",
    "import math\n",
    "import pandas as pd\n",
    "import numpy as np\n",
    "\n",
    "for mod in [\"sutton_functions\"]:\n",
    "    if mod in sys.modules:\n",
    "            del sys.modules[mod]\n",
    "            \n",
    "from sutton_functions import *\n",
    "\n",
    "# https://pypi.org/project/era5cli/"
   ]
  },
  {
   "cell_type": "code",
   "execution_count": 2,
   "id": "fb7a7f60",
   "metadata": {},
   "outputs": [],
   "source": [
    "import xarray as xr\n",
    "ds = xr.open_dataset(\"data_stream-oper_stepType-instant.nc\", engine='h5netcdf')"
   ]
  },
  {
   "cell_type": "code",
   "execution_count": 3,
   "id": "d1661751",
   "metadata": {},
   "outputs": [],
   "source": [
    "lat = ds['latitude'].values\n",
    "lon = ds['longitude'].values\n",
    "\n",
    "# Coordinates of interest\n",
    "lat_point = 45.6667\n",
    "lon_point = -119.6667\n",
    "\n",
    "# Find the closest indices\n",
    "lat_idx = (np.abs(lat - lat_point)).argmin() + 1\n",
    "lon_idx = (np.abs(lon - lon_point)).argmin() + 1\n",
    "\n",
    "# Extract data at the closest point\n",
    "data_at_point = ds.isel(latitude=lat_idx, longitude=lon_idx)\n"
   ]
  },
  {
   "cell_type": "code",
   "execution_count": 4,
   "id": "0b7af981",
   "metadata": {
    "code_folding": []
   },
   "outputs": [],
   "source": [
    "\n",
    "def get_lm(k,h,z, option = 'kz'):\n",
    "    \"\"\"\n",
    "    mixing length option\n",
    "    \"\"\"\n",
    "    d = 2/3*h\n",
    "    \n",
    "    if option == 'kz':\n",
    "        lm = k*z\n",
    "    else:\n",
    "        a = 1\n",
    "        lm = k*z   # k*a*(h/3)\n",
    "        lm[z < a*(h - d)] = k*a*h/3 \n",
    "    \n",
    "        # lm = k*(z - d)    \n",
    "        # lm[z < h] = k*h/3      \n",
    "    return lm\n",
    "\n"
   ]
  },
  {
   "cell_type": "code",
   "execution_count": 5,
   "id": "8ac8fb55",
   "metadata": {},
   "outputs": [],
   "source": [
    "def our_central_difference(s, dz):\n",
    "    \"\"\"\n",
    "    Computes gradients of a data vector using central differencing. At edges, \n",
    "    forward and  backward differences are used\n",
    "    \"\"\"\n",
    "    m = len(s)\n",
    "    dsdz = np.zeros(m)\n",
    "    \n",
    "    # Central difference for interior points\n",
    "    dsdz[1:m-1] = (s[2:m] - s[0:m-2]) / (2 * dz)\n",
    "    #dsdz[1:m-1] = (s[2:m] - s[1:m-1]) / ( dz)\n",
    "    \n",
    "    # Forward difference at the first node\n",
    "    dsdz[0] = (s[1] - s[0]) / dz\n",
    "    \n",
    "    # Backward difference at the last node\n",
    "    dsdz[m-1] = (s[m-1] - s[m-2]) / dz\n",
    "    \n",
    "    return dsdz"
   ]
  },
  {
   "cell_type": "code",
   "execution_count": 37,
   "id": "d9d68bd8",
   "metadata": {
    "code_folding": [
     1,
     28,
     35
    ]
   },
   "outputs": [],
   "source": [
    "\n",
    "def vapor_concentration_RH( T, RH = 100):\n",
    "    \"\"\"\n",
    "    Calculate the vapor concentration (in g/m³) for a given \n",
    "    relative humidity (RH) and temperature (T in °C).\n",
    "    \n",
    "    Parameters:\n",
    "    - RH (float): Relative humidity as a fraction (e.g., 0.5 for 50%).\n",
    "    - T (float): Temperature in degrees Celsius.\n",
    "    \n",
    "    Returns:\n",
    "    - float: Vapor concentration in g/m³.\n",
    "    \"\"\"\n",
    "    # Constants\n",
    "    M_w = 18.015  # molar mass of water vapor in g/mol\n",
    "    R = 8.314  # universal gas constant in J/(mol*K)\n",
    "    \n",
    "    # Calculate the saturation vapor pressure (Pa)\n",
    "    e_s = 6.1094 * math.exp((17.625 * T) / (T + 243.04))*100\n",
    "\n",
    "    # Actual vapor pressure (Pa)\n",
    "    e = RH/100 * e_s\n",
    "    \n",
    "    # Vapor concentration (g/m³)\n",
    "    C = (e * M_w) / (R * (T + 273.15))\n",
    "    \n",
    "    return C\n",
    "\n",
    "def get_e_sat(T) :\n",
    "     \n",
    "    #  T (float): Temperature in degrees Celsius.    \n",
    "    e_s = 6.1094 * math.exp((17.625 * T) / (T + 243.04))*100\n",
    "    \n",
    "    return e_s\n",
    "\n",
    "def vapor_concentration(es, T):\n",
    "    # Constants\n",
    "    M = 18.015  # Molar mass of water in g/mol\n",
    "    R = 8.314  # Universal gas constant in J/(mol·K)\n",
    "    \n",
    "    # Water vapor concentration calculation\n",
    "    rho = (es * M) / (R * T)\n",
    "    return rho\n"
   ]
  },
  {
   "cell_type": "code",
   "execution_count": 178,
   "id": "ed7c2548",
   "metadata": {},
   "outputs": [],
   "source": [
    "# Define given values\n",
    "mcal_to_J = 4.184e-3  # 1 mcal = 4.184e-3 J\n",
    "cm2_to_m2 = 1e-4      # 1 cm² = 1e-4 m²\n",
    "H01_mcal_cm2_s = 8.5  # Given value in mcal/cm²/s\n",
    "\n",
    "# Convert to SI units (W/m²)\n",
    "H_f = H01_mcal_cm2_s * mcal_to_J / cm2_to_m2\n",
    "\n",
    "LE_f = 0\n",
    "\n",
    "# Rn - G = H_f\n",
    "Q_f = 6.34 # g mm3, E_01\n",
    "\n",
    "RH_c = 60 # %\n",
    "\n",
    "# h should be 4 cm?  literal canopy height?\n",
    "d = 2/3*0.04"
   ]
  },
  {
   "cell_type": "code",
   "execution_count": 52,
   "id": "b9362b47",
   "metadata": {
    "code_folding": [
     79
    ]
   },
   "outputs": [],
   "source": [
    "def get_params(fallow_fraction = 0.5, fallow_length = 1000, \n",
    "               T_sc = 30, T_sf = 50, T_a = 18, \n",
    "               Q_a = 5, Q_c = 20, RH_c = 60,\n",
    "               h = 0.04, \n",
    "               zom_f = 0.14/100, # m 0.002\n",
    "               zom_c = 0.14/1000, # m \n",
    "               SW_in = 400, \n",
    "               e_f = 0.95, e_c = 0.95, e_a = .8,\n",
    "               alpha_c = 0.22, alpha_f = 0.22,\n",
    "               lm_option = 'kz', adj_grid = 0\n",
    "              ):\n",
    "    \n",
    "    # Flat parameter dictionary\n",
    "    params = {\n",
    "        \"k\": 0.4,            # von Karman constant        \n",
    "        \"zom_f\": zom_f,      # Momentum roughness length (m)\n",
    "        \"zom_c\": zom_c,      # Momentum roughness length (m)        \n",
    "        'h' : h,\n",
    "        \"Lx\": 1000,           # Domain length in x-direction\n",
    "        \"Hmax\": 10,           # Maximum height\n",
    "\n",
    "        'H_f' : H_f,\n",
    "        \"fallow_fraction\": fallow_fraction,\n",
    "        \"fallow_length\" : fallow_length,\n",
    "        \"dz\": 0.05,\n",
    "        \"dx\": 1,\n",
    "\n",
    "        'Q_f' : Q_a,\n",
    "        'Q_a' : Q_a,   \n",
    "        'T_sc' : T_sc,  # Cultivated temperature\n",
    "        'T_sf' : T_sf,  # Fallow temperature\n",
    "        \n",
    "        'SW_in' : SW_in,\n",
    "        'T_a' : T_a,  # Atmos temperature\n",
    "        'e_a' : e_a,\n",
    "        'e_f' : e_f,\n",
    "        'e_c' : e_c,\n",
    "        'alpha_c' : alpha_c,\n",
    "        'alpha_f' : alpha_f,  \n",
    "        'lm_option' : lm_option,\n",
    "        'adj_grid' : adj_grid,\n",
    "        'RH_c' : RH_c\n",
    "    }\n",
    "    #Ubar_4 = 3.76\n",
    "    #ustar_f = 0.4*Ubar_4/np.log(4/zom_f)    # Friction velocity (m/s)\n",
    "    #ustar_c = 0.4*Ubar_4/np.log(4/zom_c)\n",
    "\n",
    "    ustar_f = 15/100 # m/s\n",
    "    params['xmin'] = 0\n",
    "    params['ustar_f'] = ustar_f\n",
    "    params['ustar_c'] = ustar_f    \n",
    "    params['xmax'] = params['Lx']\n",
    "    params['zmin'] = params['zom_f']\n",
    "    params['zmax'] = params['Hmax']\n",
    "    \n",
    "    params['field_size'] = int(params['fallow_length']/params['dx'])\n",
    "    \n",
    "    if fallow_fraction > 0:\n",
    "        params['fallow_size'] = int(params['field_size']*(1- fallow_fraction)/fallow_fraction)\n",
    "    else:\n",
    "        params['fallow_size'] = 0\n",
    "        \n",
    "    z = np.arange(params['zmin'] + params['dz'], params['zmax'] + params['dz'], params['dz'])\n",
    "    nz = len(z)\n",
    "    x = np.arange(params['xmin'], params['xmax'] + params['dx'], params['dx'])\n",
    "    nx = len(x)   \n",
    "    \n",
    "    es_c = saturation_vapor_pressure(T_sc + 273.15)\n",
    "    es_f = saturation_vapor_pressure(T_sf + 273.15)\n",
    "    params['nx'] = nx\n",
    "    params['nz'] = nz\n",
    "    \n",
    "    es_c = saturation_vapor_pressure(T_sc + 273.15)\n",
    "    Q_c = vapor_concentration_RH(T_sc, RH_c)\n",
    "\n",
    "    params['Q_c'] = Q_c\n",
    "    \n",
    "    return params\n",
    "\n",
    "def get_zc(params):\n",
    "    \n",
    "    z = np.arange(params['zmin'] + params['dz'], params['zmax'] + params['dz'], params['dz'])\n",
    "    dz = params['dz']\n",
    "    nz = params['nz']    \n",
    "    zc = z.copy()    \n",
    "    zc[0] = dz / np.log(z[1]/z[0])\n",
    "    for i in range(1, nz-1):\n",
    "        zc[i] = dz*2/ np.log(z[i+1]/z[i-1])\n",
    "    zc[-1] = dz / np.log(z[-1]/z[-2])\n",
    "    \n",
    "    return nz"
   ]
  },
  {
   "cell_type": "code",
   "execution_count": 76,
   "id": "ff3e3676",
   "metadata": {
    "code_folding": [
     0,
     66
    ]
   },
   "outputs": [],
   "source": [
    "def uniform_Q(params):\n",
    "    \"\"\"\n",
    "    The function computes an implicit solution for water vapor concentration and\n",
    "    flux in a turbulent boundary layer.\n",
    "    \n",
    "    - Uses an implicit finite-difference method for solving the transport equation.\n",
    "    - Implements mixing length theory to define eddy diffusivity.\n",
    "    - Marches along the x-direction to iteratively solve for the concentration field.\n",
    "\n",
    "    \"\"\"\n",
    "    nx = params['nx']\n",
    "    nz = params['nz']    \n",
    "    dx = params['dx']    \n",
    "    dz = params['dz']  \n",
    "    zmax = params['zmax']      \n",
    "    k = params['k']          \n",
    "    \n",
    "    ustar_f = params['ustar_f']\n",
    "    zom_f = params['zom_f']  \n",
    "    zoh_f = params['zom_f']/5    \n",
    "    \n",
    "    ustar_c = params['ustar_c']\n",
    "    zom_c = params['zom_c']  \n",
    "    zoh_c = params['zom_c']/5\n",
    "    \n",
    "    Q_f = params['Q_f']\n",
    "    Q_c = params['Q_c']\n",
    "    Q_a = params['Q_a']\n",
    "    h = params['h']\n",
    "    lm_option = params['lm_option']\n",
    "    adj_grid = params['adj_grid']\n",
    "\n",
    "    z = np.arange(params['zmin'] + params['dz'], params['zmax'] + params['dz'], \n",
    "                  params['dz'])    \n",
    "\n",
    "    LE_f = ustar_f*k*(Q_f - Q_a)/np.log(zmax/zom_f)\n",
    "    Qup = Q_f - LE_f/(k*ustar_f)*np.log(z/zom_f)\n",
    "    \n",
    "    LE_c = ustar_c*k*(Q_c - Q_a)/np.log(zmax/zom_c)\n",
    "    Qdown = Q_c - LE_c/(k*ustar_c)*np.log(z/zom_c)    \n",
    "    \n",
    "    U = (ustar_c / k) * np.log(z / zom_c)\n",
    "    \n",
    "    lm = get_lm(k, h, z, lm_option)    \n",
    "    \n",
    "    # Setup coefficients for the implicit scheme\n",
    "    A = lm * ustar_c\n",
    "    B = 1.0 / U\n",
    "    C = our_central_difference(A, dz)\n",
    "\n",
    "    # Upwind wv concentrations and fluxes\n",
    "    Q1 = Qup\n",
    "    Q_uniform = np.zeros((nx , nz))\n",
    "    Q_uniform[0, :] = Q1\n",
    "    FluxQ_uniform = np.zeros((nx , nz))\n",
    "\n",
    "    # Begin downwind calculations by marching along x\n",
    "    for i in range(nx):\n",
    "        Q2, Fq = integrate_H2O_implicit(nx, nz, dx, dz, A, B, C, Q1, Qdown[0], Q_a)\n",
    "        Q_uniform[i, :] = Q2\n",
    "        FluxQ_uniform[i, :] = Fq\n",
    "        Q1 = Q2\n",
    "\n",
    "        \n",
    "    return Q_uniform, FluxQ_uniform\n",
    "\n",
    "def uniform_T(params):\n",
    "    \"\"\"\n",
    "    The function solves an implicit equation for temperature transport in a turbulent boundary layer.\n",
    "    \n",
    "    - Uses an implicit finite-difference method to solve the advection-diffusion equation.\n",
    "    - Mixing length theory is applied to define eddy diffusivity.\n",
    "    - Marches along the x-direction to iteratively compute the temperature field.\n",
    "    \n",
    "    \"\"\"\n",
    "    nx = params['nx']\n",
    "    nz = params['nz']    \n",
    "    dx = params['dx']        \n",
    "    dz = params['dz']        \n",
    "    k = params['k']              \n",
    "    zmax = params['zmax']\n",
    "    \n",
    "    ustar_f = params['ustar_f']\n",
    "    zom_f = params['zom_f']  \n",
    "    zoh_f = params['zom_f']/5    \n",
    "    ustar_c = params['ustar_c']\n",
    "    zom_c = params['zom_c']  \n",
    "    zoh_c = params['zom_c']/5\n",
    "    \n",
    "    T_sf = params['T_sf']    \n",
    "    T_sc = params['T_sc']\n",
    "    T_a = params['T_a']\n",
    "    h = params['h']    \n",
    "    \n",
    "    lm_option = params['lm_option']\n",
    "    adj_grid = params['adj_grid']\n",
    "    \n",
    "    z = np.arange(params['zmin'] + params['dz'], \n",
    "                  params['zmax'] + params['dz'], params['dz'])\n",
    "    \n",
    "    wT = - (T_a - T_sf)*k*ustar_f/np.log(zmax/zom_f)      # K m/s\n",
    "    Tup = T_sf - wT/(k*ustar_f)*np.log(z/zom_f)\n",
    "\n",
    "    wT_down = -(T_a - T_sc)*k*ustar_c/np.log(zmax/zom_c)  # K m/s    \n",
    "    Tdown = T_sc - wT_down/(k*ustar_c)*np.log(z/zom_c)\n",
    "\n",
    "    U = (ustar_c / k) * np.log(z / zom_c)    \n",
    "    \n",
    "    # Setup coefficients for the implicit scheme\n",
    "    lm = get_lm(k, h, z, lm_option)       \n",
    "    A = lm * ustar_c\n",
    "    B = 1.0 / U\n",
    "    C = our_central_difference(A, dz)\n",
    "\n",
    "    # Upwind wv concentrations and fluxes\n",
    "    T1 = Tup\n",
    "    T_uniform = np.zeros((nx , nz))\n",
    "    T_uniform[0, :] = T1\n",
    "    FluxT_uniform = np.zeros((nx , nz))\n",
    "\n",
    "    for i in range(nx):\n",
    "        \n",
    "        T2, FT = integrate_T_implicit(nx, nz, dx, dz, A, B, C, T1, Tdown[0], T_a)\n",
    "        T_uniform[i, :] = T2\n",
    "        FluxT_uniform[i, :] = FT\n",
    "        T1 = T2\n",
    "    \n",
    "    return T_uniform, FluxT_uniform"
   ]
  },
  {
   "cell_type": "code",
   "execution_count": 158,
   "id": "d055e5ba",
   "metadata": {},
   "outputs": [],
   "source": [
    "# downwind humidity is 60%\n",
    "G  = 30\n",
    "Rn_f = H_f + G\n",
    "Rn_c = 1.2*H_f + G\n",
    "\n",
    "SW = 700\n",
    "T_a = 16 + 273.15\n",
    "Q_a = 5\n",
    "\n",
    "epsilon_a = 0.95\n",
    "epsilon_f = 0.95\n",
    "epsilon_c = 0.95\n",
    "\n",
    "params = get_params(h = 2.3, SW_in = SW, \n",
    "               e_f = epsilon_f, e_c = epsilon_c, e_a = epsilon_a,            \n",
    "               lm_option = 'kz', adj_grid = 0)\n",
    "\n",
    "z_h = params['Hmax']\n",
    "\n",
    "zom_f = params['zom_f']\n",
    "zom_c = params['zom_c']\n",
    "zoh_f = params['zom_f']/5\n",
    "zoh_c = params['zom_c']/5\n",
    "\n",
    "k = params['k']\n",
    "ustar_f = params['ustar_f']\n",
    "ustar_c = params['ustar_c']\n",
    "\n",
    "z = np.arange(params['zmin'] + params['dz'], params['zmax'] + params['dz'], params['dz'])\n",
    "\n",
    "from sympy import symbols, Eq, solve\n",
    "\n",
    "# Define symbols\n",
    "sigma_sb = 5.67*1e-8\n",
    "\n",
    "Q_f = Q_a\n",
    "Q_c =  Q_f + 8\n",
    "\n",
    "T_sf, T_sc, alpha_f, alpha_c, H_c, LE_c = symbols('T_sf T_sc alpha_f alpha_c H_c  LE_c')\n",
    "\n",
    "level = 5\n",
    "# unknowns – alpha_f, T_sf\n",
    "eq1 = Eq(SW*(1-alpha_f) + epsilon_a*sigma_sb*T_a**4 - epsilon_f*sigma_sb*T_sf**4, Rn_f )\n",
    "\n",
    "eq2 = Eq(SW*(1-alpha_c) + epsilon_a*sigma_sb*T_a**4 - epsilon_c*sigma_sb*T_sc**4, Rn_c )\n",
    "\n",
    "eq3 = Eq(T_sf - T_a, 1/(k*ustar_f)*H_f/((1005*1.2))*np.log(z_h/(z[level])))\n",
    "\n",
    "eq4 = Eq(T_sc - T_a, 1/(k*ustar_c)*H_c/((1005*1.2))*np.log(z_h/(z[level])))\n",
    "\n",
    "eq5 = Eq(Q_c - Q_a, 1/(k*ustar_c)*LE_c/2260*np.log(z_h/(z[level])))\n",
    "\n",
    "eq6 = Eq(Rn_c - G, LE_c +  H_c)\n",
    "\n",
    "# Solve the system of equations\n",
    "solution = solve((eq1, eq2, eq3,  eq4, eq5, eq6), \n",
    "                 (T_sf, T_sc, alpha_f, alpha_c, LE_c,  H_c ))\n",
    "\n",
    "# T_sf, Q_f are the boundary conditions at level = 5 (top of canopy..?)\n",
    "T_sf, T_sc, alpha_f, alpha_c, LE_c,  H_c = solution[0]\n",
    "\n",
    "T_a = T_a - 273.15\n",
    "T_sf = T_sf - 273.15\n",
    "T_sc = T_sc - 273.15\n"
   ]
  },
  {
   "cell_type": "code",
   "execution_count": 159,
   "id": "50490625",
   "metadata": {},
   "outputs": [
    {
     "data": {
      "text/plain": [
       "(33.2113938334459,\n",
       " 21.6619644740986,\n",
       " 11.5494293593473,\n",
       " 0.309118113276778,\n",
       " 0.304089218312969,\n",
       " 309.774509231375,\n",
       " 116.993490768625)"
      ]
     },
     "execution_count": 159,
     "metadata": {},
     "output_type": "execute_result"
    }
   ],
   "source": [
    "T_sf, T_sc,T_sf -  T_sc, alpha_f, alpha_c, LE_c,  H_c"
   ]
  },
  {
   "cell_type": "code",
   "execution_count": 160,
   "id": "e501cf62",
   "metadata": {},
   "outputs": [
    {
     "data": {
      "text/plain": [
       "(355.640000000000, 355.64)"
      ]
     },
     "execution_count": 160,
     "metadata": {},
     "output_type": "execute_result"
    }
   ],
   "source": [
    "(T_sf - T_a)*(k*ustar_f)*((1005*1.2))/np.log(z_h/(z[level])), H_f"
   ]
  },
  {
   "cell_type": "code",
   "execution_count": 161,
   "id": "3268d33a",
   "metadata": {},
   "outputs": [
    {
     "data": {
      "text/plain": [
       "(13, 11.398097311479805, 60)"
      ]
     },
     "execution_count": 161,
     "metadata": {},
     "output_type": "execute_result"
    }
   ],
   "source": [
    "Q_c, float(vapor_concentration_RH(float(T_sc), RH_c)), RH_c"
   ]
  },
  {
   "cell_type": "code",
   "execution_count": 162,
   "id": "195e9f1f",
   "metadata": {},
   "outputs": [
    {
     "name": "stdout",
     "output_type": "stream",
     "text": [
      "59.6139091163301 33.2113938334459 \n",
      " 34.0703742067002 21.6619644740986 \n",
      " 30.532303198814372 0.309118113276778\n"
     ]
    }
   ],
   "source": [
    "T_zom_f = np.log(z_h/zom_f)/np.log(z_h/z[level])*(T_sf - T_a) + T_a\n",
    "T_zom_c = np.log(z_h/zom_c)/np.log(z_h/z[level])*(T_sc - T_a) + T_a\n",
    "\n",
    "Q_zom_f = np.log(z_h/zom_f)/np.log(z_h/z[level])*(Q_f - Q_a) + Q_a\n",
    "Q_zom_c = np.log(z_h/zom_c)/np.log(z_h/z[level])*(Q_c - Q_a) + Q_a\n",
    "\n",
    "print (T_zom_f, T_sf, \"\\n\", T_zom_c, T_sc,\"\\n\", Q_zom_c, alpha_f)"
   ]
  },
  {
   "cell_type": "code",
   "execution_count": 163,
   "id": "1409a5ec",
   "metadata": {},
   "outputs": [],
   "source": [
    "sigma_sb = 5.67*1e-8\n",
    "\n",
    "params = get_params(T_sc = float(T_zom_c), T_sf = float(T_zom_f), \n",
    "                    Q_c = float(Q_zom_c), Q_a = Q_a, T_a = T_a, SW_in = SW, \n",
    "                    alpha_f = alpha_f, alpha_c = alpha_c)"
   ]
  },
  {
   "cell_type": "code",
   "execution_count": 164,
   "id": "7d4675a5",
   "metadata": {},
   "outputs": [
    {
     "data": {
      "text/plain": [
       "(309.774509231375, 309.7745092313746)"
      ]
     },
     "execution_count": 164,
     "metadata": {},
     "output_type": "execute_result"
    }
   ],
   "source": [
    "LE_c, (Q_c - Q_a)*(k*ustar_c)*2260/np.log(z_h/(z[level]))"
   ]
  },
  {
   "cell_type": "code",
   "execution_count": 165,
   "id": "0fb4269b",
   "metadata": {},
   "outputs": [],
   "source": [
    "LW_out_c = epsilon_c*sigma_sb*(T_sc + 273.15)**4\n",
    "LW_in_c = epsilon_a*sigma_sb*(T_a + 273.15)**4\n",
    "\n",
    "Rn_c = (1 - alpha_c)*SW  + LW_in_c - LW_out_c"
   ]
  },
  {
   "cell_type": "code",
   "execution_count": 166,
   "id": "8887e5c0",
   "metadata": {},
   "outputs": [
    {
     "data": {
      "text/plain": [
       "(426.767999999997, 426.768000000000)"
      ]
     },
     "execution_count": 166,
     "metadata": {},
     "output_type": "execute_result"
    }
   ],
   "source": [
    "Rn_c - G, LE_c + H_c"
   ]
  },
  {
   "cell_type": "code",
   "execution_count": 167,
   "id": "28f49ffc",
   "metadata": {},
   "outputs": [],
   "source": [
    "T_uniform, FluxT_uniform = uniform_T(params)\n",
    "Q_uniform, FluxQ_uniform = uniform_Q(params)\n",
    "\n",
    "SH = FluxT_uniform*1005*1.2\n",
    "LE = FluxQ_uniform*2.5*1e6/1000\n",
    "FluxTotal = SH + LE"
   ]
  },
  {
   "cell_type": "code",
   "execution_count": 168,
   "id": "0dd18f22",
   "metadata": {},
   "outputs": [
    {
     "data": {
      "text/plain": [
       "(53.473078063655464, 116.993490768625)"
      ]
     },
     "execution_count": 168,
     "metadata": {},
     "output_type": "execute_result"
    }
   ],
   "source": [
    "FluxT_uniform[-1][level]*1005*1.2, H_c"
   ]
  },
  {
   "cell_type": "code",
   "execution_count": 169,
   "id": "2abd9ef6",
   "metadata": {},
   "outputs": [
    {
     "data": {
      "text/plain": [
       "(110.52235398741935, 309.774509231375)"
      ]
     },
     "execution_count": 169,
     "metadata": {},
     "output_type": "execute_result"
    }
   ],
   "source": [
    "FluxQ_uniform[-1][level]*2.5*1e6/1000, LE_c"
   ]
  },
  {
   "cell_type": "code",
   "execution_count": 170,
   "id": "fe83f2e4",
   "metadata": {
    "code_folding": []
   },
   "outputs": [],
   "source": [
    "def get_upwind_fluxQ(params):\n",
    "    \"\"\"\n",
    "    \"\"\"\n",
    "    ustar = params['ustar_f']    \n",
    "    dz = params['dz']\n",
    "    nz = params['nz']\n",
    "    k = params['k']\n",
    "    zmax = params['zmax']\n",
    "    zoh = params['zom_f']\n",
    "    h = params['h']\n",
    "    nx = params['nx']     \n",
    "    lm_option = params['lm_option']\n",
    "    adj_grid = params['adj_grid']\n",
    "\n",
    "    z = np.arange(params['zmin'] + params['dz'],\n",
    "                  params['zmax'] + params['dz'], params['dz'])\n",
    "    \n",
    "    zc = get_zc(params)\n",
    "    \n",
    "    k = params['k']\n",
    "    Q_f = params['Q_f']\n",
    "    Q_a = params['Q_a']\n",
    "    \n",
    "    LE_f = ustar*k*(Q_f - Q_a)/np.log(zmax/zom_f)\n",
    "\n",
    "    Qup = Q_f - LE_f/(k*ustar)*np.log(z/zom_f)\n",
    "    dQdz = our_central_difference(Qup, dz)\n",
    "\n",
    "    lm = get_lm(k,h, z, lm_option)\n",
    "    \n",
    "    A = lm * ustar\n",
    "    \n",
    "    FluxQ_upwind = np.zeros_like(Qup)    \n",
    "    FluxQ_upwind[1:] = - 0.5 * (A[1:] + A[:-1]) * (0*dQdz[:-1] + dQdz[1:]) * 0.5\n",
    "\n",
    "    FluxQ_upwind[1] = FluxQ_upwind[2]\n",
    "    FluxQ_upwind[0] = FluxQ_upwind[1] \n",
    "    \n",
    "    # FluxQ_upwind = - A * dQdz\n",
    "    \n",
    "    return Qup, FluxQ_upwind\n",
    "\n",
    "def get_upwind_fluxT(params):\n",
    "    \"\"\"\n",
    "    \"\"\"\n",
    "    dz = params['dz']\n",
    "    nz = params['nz']\n",
    "    nx = params['nx']    \n",
    "    ustar = params['ustar_f']\n",
    "    zmax = params['zmax']\n",
    "    zoh_f = params['zom_f']/5\n",
    "    zom_f = params['zom_f']\n",
    "    h = params['h']\n",
    "    lm_option = params['lm_option']    \n",
    "    adj_grid = params['adj_grid']    \n",
    "    \n",
    "    z = np.arange(params['zmin'] + params['dz'],\n",
    "                  params['zmax'] + params['dz'], params['dz'])\n",
    "    \n",
    "    k = params['k']\n",
    "    T_sf = params['T_sf']\n",
    "    T_a = params['T_a']\n",
    "    Q_a = params['Q_a']        \n",
    "    \n",
    "    wT = - (T_a - T_sf)*k*ustar/np.log(zmax/zom_f) # K m/s\n",
    "    Tup = T_sf - wT/(k*ustar)*np.log(z/zom_f)\n",
    "    \n",
    "    dTdz = our_central_difference(Tup, dz)\n",
    "\n",
    "    ustar = params['ustar_f']\n",
    "    k = params['k']\n",
    "\n",
    "    lm = get_lm(k, h, z, lm_option)    \n",
    "    A = lm * ustar\n",
    "\n",
    "    # FluxT_upwind = - A * dTdz\n",
    "    \n",
    "    FluxT_upwind = np.zeros_like(Tup)\n",
    "    FluxT_upwind[1:] = - 0.5 * (A[1:] + A[:-1]) * (0*dTdz[:-1] + dTdz[1:]) * 0.5\n",
    "    \n",
    "    FluxT_upwind[1] = FluxT_upwind[2]\n",
    "    FluxT_upwind[0] = FluxT_upwind[1]\n",
    "    \n",
    "    return Tup, FluxT_upwind\n",
    "\n",
    "Qup, FluxQ_upwind = get_upwind_fluxQ(params)\n",
    "Tup, FluxT_upwind = get_upwind_fluxT(params)\n",
    "\n"
   ]
  },
  {
   "cell_type": "code",
   "execution_count": 171,
   "id": "f21e99f6",
   "metadata": {},
   "outputs": [],
   "source": [
    "x = np.arange(params['xmin'], params['xmax'] + params['dx'], params['dx'])\n",
    "\n",
    "FluxTotal_upwind = FluxQ_upwind[level]*np.ones_like(x)*2.260*1e6/1000 + \\\n",
    "            FluxT_upwind[level]*np.ones_like(x)*1005*1.2"
   ]
  },
  {
   "cell_type": "code",
   "execution_count": 172,
   "id": "2862f20b",
   "metadata": {},
   "outputs": [
    {
     "name": "stdout",
     "output_type": "stream",
     "text": [
      "-0.0 166.2975787688499\n",
      "54.079460654743905 100.99755881345085\n"
     ]
    },
    {
     "data": {
      "image/png": "[encoded data removed]",
      "text/plain": [
       "<Figure size 1000x400 with 1 Axes>"
      ]
     },
     "metadata": {},
     "output_type": "display_data"
    }
   ],
   "source": [
    "\n",
    "plt.figure(figsize = (10, 4 ))\n",
    "ax = plt.gca()\n",
    "\n",
    "x = np.arange(params['xmin'], params['xmax'] + params['dx'], params['dx'])\n",
    "xx = np.concatenate([-np.flip(x),x])\n",
    "\n",
    "FluxTotal_ = np.concatenate([FluxTotal_upwind, FluxTotal[:, level]])\n",
    "\n",
    "FluxTotal_upwind = FluxQ_upwind[level]*np.ones_like(x)*2.260*1e6/1000 + \\\n",
    "            FluxT_upwind[level]*np.ones_like(x)*1005*1.2\n",
    "\n",
    "ax.plot(xx, FluxTotal_,  c =  'C0', ls = '--', label = '$H + LE$')\n",
    "\n",
    "FluxQ = np.concatenate([FluxQ_upwind[level]*np.ones_like(x), FluxQ_uniform[:, level]])\n",
    "ax.plot(xx,FluxQ*2.260*1e6/1000,  ls = '--', c =  'C2',  label = \"$LE$\")\n",
    "\n",
    "FluxT = np.concatenate([FluxT_upwind[level]*np.ones_like(x), FluxT_uniform[:,level]])\n",
    "ax.plot(xx, FluxT*1005*1.2,  c =  'C1', ls = '--', label = \"$H$\")\n",
    "ax.legend()\n",
    "ax.set_title(\"Surface sensible and latent heat fluxes (W/m$^2$)\")\n",
    "\n",
    "level = 6\n",
    "print (FluxQ_upwind[level]*2260,  FluxT_upwind[level]*1005*1.2)\n",
    "print (FluxT_uniform[ -1, level]*1005*1.2, FluxQ_uniform[ -1, level]*2260)\n"
   ]
  },
  {
   "cell_type": "code",
   "execution_count": 173,
   "id": "d4e83dd9",
   "metadata": {},
   "outputs": [],
   "source": [
    "fig6data = pd.read_csv('baldocchi1995/baldocchi1995_fig6.csv')"
   ]
  },
  {
   "cell_type": "code",
   "execution_count": 174,
   "id": "59221ee3",
   "metadata": {},
   "outputs": [],
   "source": [
    "# 4 m above the surface\n",
    "# assume a 1 m canopy\n",
    "# 3 m above the canopy\n",
    "# z = height above canopy - d\n"
   ]
  },
  {
   "cell_type": "code",
   "execution_count": 175,
   "id": "60347c98",
   "metadata": {},
   "outputs": [],
   "source": [
    "\n",
    "# i800 = np.where(x > 800)[0][0]\n",
    "# plt.scatter(fig6data['x'], fig6data[' y'], label = \"Baldocchi and Rao, 1995\")\n",
    "# # level = 3\n",
    "# # plt.plot(x[:i800], FluxQ_uniform[:i800, level]/FluxQ_uniform[i800, level])\n",
    "\n",
    "# level = 40\n",
    "# plt.plot(x[:i800], FluxQ_uniform[:i800, level]/FluxQ_uniform[i800, level])\n",
    "# plt.xlabel(\"x\")\n",
    "# plt.xlabel(\"ET/ET(800m)\")"
   ]
  },
  {
   "cell_type": "code",
   "execution_count": 176,
   "id": "de2f0e85",
   "metadata": {},
   "outputs": [
    {
     "data": {
      "text/plain": [
       "177.66547025845543"
      ]
     },
     "execution_count": 176,
     "metadata": {},
     "output_type": "execute_result"
    },
    {
     "data": {
      "image/png": "[encoded data removed]",
      "text/plain": [
       "<Figure size 1000x400 with 1 Axes>"
      ]
     },
     "metadata": {},
     "output_type": "display_data"
    }
   ],
   "source": [
    "x = np.arange(params['xmin'], params['xmax'] + params['dx'], params['dx'])\n",
    "\n",
    "level = 5\n",
    "plt.figure(figsize = (10,4))\n",
    "ax = plt.gca()\n",
    "ax.plot(x[1:], FluxTotal[1:, level], label = 'total')\n",
    "ax.plot(x[1:], FluxQ_uniform[1:, level]*2.260*1e6/1000, label = \"$LE$\")\n",
    "ax.plot(x[1:], FluxT_uniform[1:, level]*1005*1.2, label = \"$SH$\")\n",
    "ax.axhline(FluxT_uniform[-1, level], ls = ':', c = 'k')\n",
    "ax.legend()\n",
    "ax.set_xlim(0, 500)\n",
    "ax.set_title(\"Surface sensible and latent heat flux (W/m$^2$)\")\n",
    "\n",
    "FluxTotal[level, -1]"
   ]
  },
  {
   "cell_type": "code",
   "execution_count": 177,
   "id": "b33696d2",
   "metadata": {},
   "outputs": [
    {
     "data": {
      "image/png": "[encoded data removed]",
      "text/plain": [
       "<Figure size 800x600 with 4 Axes>"
      ]
     },
     "metadata": {},
     "output_type": "display_data"
    }
   ],
   "source": [
    "z = np.arange(params['zmin'], params['zmax'] + params['dz'], params['dz'])\n",
    "x = np.arange(params['xmin'], params['xmax'] + params['dx'], params['dx'])\n",
    "\n",
    "# Plot water vapor concentration and vertical flux\n",
    "plt.figure(figsize = (8, 6))\n",
    "\n",
    "plt.subplot(2, 1, 1)\n",
    "nz = Q_uniform.shape[1]\n",
    "plt.contourf(x, z[:nz], (Q_uniform.T), 25, cmap='Blues',  vmax = Q_c, vmin = Q_a)\n",
    "plt.colorbar(label='Water vapor concentration \\n (gm m$^{-3}$)')\n",
    "plt.xlabel('x (m)', fontsize=12, fontweight='normal')\n",
    "plt.ylabel('z (m)', fontsize=12, fontweight='normal')\n",
    "plt.title('Water vapor concentration $q$ (gm m$^{-3}$)', fontsize=12)\n",
    "\n",
    "plt.subplot(2, 1, 2)\n",
    "plt.contourf(x, z[:nz], FluxQ_uniform.T.round(4),  20, cmap='coolwarm', vmin = 0, vmax = FluxQ_uniform.max())\n",
    "plt.colorbar(label='Water vapor flux \\n (gm m$^{-2}$ s$^{-1}$)') \n",
    "plt.xlabel('x (m)', fontsize=12, fontweight='normal')\n",
    "plt.ylabel('z (m)', fontsize=12, fontweight='normal')\n",
    "plt.title('Water vapor flux (gm m$^{-2}$ s$^{-1}$)', fontsize=12)\n",
    "plt.tight_layout()\n",
    "\n"
   ]
  },
  {
   "cell_type": "code",
   "execution_count": null,
   "id": "d2f06ed0",
   "metadata": {},
   "outputs": [],
   "source": []
  },
  {
   "cell_type": "code",
   "execution_count": null,
   "id": "fad99aab",
   "metadata": {},
   "outputs": [],
   "source": []
  }
 ],
 "metadata": {
  "kernelspec": {
   "display_name": "ee",
   "language": "python",
   "name": "ee"
  },
  "language_info": {
   "codemirror_mode": {
    "name": "ipython",
    "version": 3
   },
   "file_extension": ".py",
   "mimetype": "text/x-python",
   "name": "python",
   "nbconvert_exporter": "python",
   "pygments_lexer": "ipython3",
   "version": "3.11.8"
  }
 },
 "nbformat": 4,
 "nbformat_minor": 5
}
